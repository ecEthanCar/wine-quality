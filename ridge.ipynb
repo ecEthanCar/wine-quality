{
 "cells": [
  {
   "cell_type": "code",
   "execution_count": 1,
   "id": "275508c1",
   "metadata": {},
   "outputs": [],
   "source": [
    "p = 50\n",
    "N = 100\n",
    "set.seed(1)\n",
    "X_train = array(rnorm(p*N),c(N,p))\n",
    "eps_train = rnorm(N)\n",
    "Nte = 10^3\n",
    "X_te = array(rnorm(p*Nte),c(Nte,p))\n",
    "eps_te = rnorm(Nte)\n",
    "grid = 10^seq(10,-2,length = 100)"
   ]
  },
  {
   "cell_type": "code",
   "execution_count": 4,
   "id": "05659c04",
   "metadata": {},
   "outputs": [],
   "source": [
    "# Define coefficients for the model\n",
    "beta <- rep(0, p)\n",
    "beta[1:5] <- 2\n",
    "\n",
    "# Generate the training response variable\n",
    "Y_train <- X_train %*% beta + eps_train\n",
    "# Generate the testing response variable\n",
    "Y_te <- X_te %*% beta + eps_te"
   ]
  },
  {
   "cell_type": "code",
   "execution_count": 6,
   "id": "4f2b249b",
   "metadata": {},
   "outputs": [
    {
     "name": "stderr",
     "output_type": "stream",
     "text": [
      "Loading required package: Matrix\n",
      "\n",
      "Loaded glmnet 4.1-8\n",
      "\n"
     ]
    },
    {
     "data": {
      "text/html": [
       "<dl>\n",
       "\t<dt>$ridge_lambda</dt>\n",
       "\t\t<dd>0.162975083462064</dd>\n",
       "\t<dt>$lasso_lambda</dt>\n",
       "\t\t<dd>0.0305385550883341</dd>\n",
       "\t<dt>$ridge_test_error</dt>\n",
       "\t\t<dd>2.25593023804606</dd>\n",
       "\t<dt>$lasso_test_error</dt>\n",
       "\t\t<dd>1.50013916431876</dd>\n",
       "</dl>\n"
      ],
      "text/latex": [
       "\\begin{description}\n",
       "\\item[\\$ridge\\_lambda] 0.162975083462064\n",
       "\\item[\\$lasso\\_lambda] 0.0305385550883341\n",
       "\\item[\\$ridge\\_test\\_error] 2.25593023804606\n",
       "\\item[\\$lasso\\_test\\_error] 1.50013916431876\n",
       "\\end{description}\n"
      ],
      "text/markdown": [
       "$ridge_lambda\n",
       ":   0.162975083462064\n",
       "$lasso_lambda\n",
       ":   0.0305385550883341\n",
       "$ridge_test_error\n",
       ":   2.25593023804606\n",
       "$lasso_test_error\n",
       ":   1.50013916431876\n",
       "\n",
       "\n"
      ],
      "text/plain": [
       "$ridge_lambda\n",
       "[1] 0.1629751\n",
       "\n",
       "$lasso_lambda\n",
       "[1] 0.03053856\n",
       "\n",
       "$ridge_test_error\n",
       "[1] 2.25593\n",
       "\n",
       "$lasso_test_error\n",
       "[1] 1.500139\n"
      ]
     },
     "metadata": {},
     "output_type": "display_data"
    }
   ],
   "source": [
    "# Cross-validate Ridge Regression\n",
    "library(glmnet)\n",
    "cv_ridge <- cv.glmnet(X_train, Y_train, alpha = 0, lambda = grid)\n",
    "lambda_ridge_best <- cv_ridge$lambda.min\n",
    "ridge_model <- glmnet(X_train, Y_train, alpha = 0, lambda = lambda_ridge_best)\n",
    "ridge_pred <- predict(ridge_model, newx = X_te, s = lambda_ridge_best)\n",
    "ridge_test_error <- mean((Y_te - ridge_pred)^2)\n",
    "\n",
    "# Cross-validate Lasso Regression\n",
    "cv_lasso <- cv.glmnet(X_train, Y_train, alpha = 1, lambda = grid)\n",
    "lambda_lasso_best <- cv_lasso$lambda.min\n",
    "lasso_model <- glmnet(X_train, Y_train, alpha = 1, lambda = lambda_lasso_best)\n",
    "lasso_pred <- predict(lasso_model, newx = X_te, s = lambda_lasso_best)\n",
    "lasso_test_error <- mean((Y_te - lasso_pred)^2)\n",
    "\n",
    "# Output best lambdas and test errors for both methods\n",
    "list(ridge_lambda = lambda_ridge_best, \n",
    "     lasso_lambda = lambda_lasso_best, \n",
    "     ridge_test_error = ridge_test_error, \n",
    "     lasso_test_error = lasso_test_error)"
   ]
  },
  {
   "cell_type": "code",
   "execution_count": 7,
   "id": "74ee1423",
   "metadata": {},
   "outputs": [
    {
     "data": {
      "text/html": [
       "<style>\n",
       ".list-inline {list-style: none; margin:0; padding: 0}\n",
       ".list-inline>li {display: inline-block}\n",
       ".list-inline>li:not(:last-child)::after {content: \"\\00b7\"; padding: 0 .5ex}\n",
       "</style>\n",
       "<ol class=list-inline><li>0.5</li><li>0.5</li><li>0.5</li><li>0.5</li><li>0.5</li><li>0.5</li><li>0.5</li><li>0.5</li><li>0.5</li><li>0.5</li><li>0.5</li><li>0.5</li><li>0.5</li><li>0.5</li><li>0.5</li><li>0.5</li><li>0.5</li><li>0.5</li><li>0.5</li><li>0.5</li><li>0.5</li><li>0.5</li><li>0.5</li><li>0.5</li><li>0.5</li><li>0.5</li><li>0.5</li><li>0.5</li><li>0.5</li><li>0.5</li><li>0.5</li><li>0.5</li><li>0.5</li><li>0.5</li><li>0.5</li><li>0.5</li><li>0.5</li><li>0.5</li><li>0.5</li><li>0.5</li><li>0.5</li><li>0.5</li><li>0.5</li><li>0.5</li><li>0.5</li><li>0.5</li><li>0.5</li><li>0.5</li><li>0.5</li><li>0.5</li></ol>\n"
      ],
      "text/latex": [
       "\\begin{enumerate*}\n",
       "\\item 0.5\n",
       "\\item 0.5\n",
       "\\item 0.5\n",
       "\\item 0.5\n",
       "\\item 0.5\n",
       "\\item 0.5\n",
       "\\item 0.5\n",
       "\\item 0.5\n",
       "\\item 0.5\n",
       "\\item 0.5\n",
       "\\item 0.5\n",
       "\\item 0.5\n",
       "\\item 0.5\n",
       "\\item 0.5\n",
       "\\item 0.5\n",
       "\\item 0.5\n",
       "\\item 0.5\n",
       "\\item 0.5\n",
       "\\item 0.5\n",
       "\\item 0.5\n",
       "\\item 0.5\n",
       "\\item 0.5\n",
       "\\item 0.5\n",
       "\\item 0.5\n",
       "\\item 0.5\n",
       "\\item 0.5\n",
       "\\item 0.5\n",
       "\\item 0.5\n",
       "\\item 0.5\n",
       "\\item 0.5\n",
       "\\item 0.5\n",
       "\\item 0.5\n",
       "\\item 0.5\n",
       "\\item 0.5\n",
       "\\item 0.5\n",
       "\\item 0.5\n",
       "\\item 0.5\n",
       "\\item 0.5\n",
       "\\item 0.5\n",
       "\\item 0.5\n",
       "\\item 0.5\n",
       "\\item 0.5\n",
       "\\item 0.5\n",
       "\\item 0.5\n",
       "\\item 0.5\n",
       "\\item 0.5\n",
       "\\item 0.5\n",
       "\\item 0.5\n",
       "\\item 0.5\n",
       "\\item 0.5\n",
       "\\end{enumerate*}\n"
      ],
      "text/markdown": [
       "1. 0.5\n",
       "2. 0.5\n",
       "3. 0.5\n",
       "4. 0.5\n",
       "5. 0.5\n",
       "6. 0.5\n",
       "7. 0.5\n",
       "8. 0.5\n",
       "9. 0.5\n",
       "10. 0.5\n",
       "11. 0.5\n",
       "12. 0.5\n",
       "13. 0.5\n",
       "14. 0.5\n",
       "15. 0.5\n",
       "16. 0.5\n",
       "17. 0.5\n",
       "18. 0.5\n",
       "19. 0.5\n",
       "20. 0.5\n",
       "21. 0.5\n",
       "22. 0.5\n",
       "23. 0.5\n",
       "24. 0.5\n",
       "25. 0.5\n",
       "26. 0.5\n",
       "27. 0.5\n",
       "28. 0.5\n",
       "29. 0.5\n",
       "30. 0.5\n",
       "31. 0.5\n",
       "32. 0.5\n",
       "33. 0.5\n",
       "34. 0.5\n",
       "35. 0.5\n",
       "36. 0.5\n",
       "37. 0.5\n",
       "38. 0.5\n",
       "39. 0.5\n",
       "40. 0.5\n",
       "41. 0.5\n",
       "42. 0.5\n",
       "43. 0.5\n",
       "44. 0.5\n",
       "45. 0.5\n",
       "46. 0.5\n",
       "47. 0.5\n",
       "48. 0.5\n",
       "49. 0.5\n",
       "50. 0.5\n",
       "\n",
       "\n"
      ],
      "text/plain": [
       " [1] 0.5 0.5 0.5 0.5 0.5 0.5 0.5 0.5 0.5 0.5 0.5 0.5 0.5 0.5 0.5 0.5 0.5 0.5 0.5\n",
       "[20] 0.5 0.5 0.5 0.5 0.5 0.5 0.5 0.5 0.5 0.5 0.5 0.5 0.5 0.5 0.5 0.5 0.5 0.5 0.5\n",
       "[39] 0.5 0.5 0.5 0.5 0.5 0.5 0.5 0.5 0.5 0.5 0.5 0.5"
      ]
     },
     "metadata": {},
     "output_type": "display_data"
    },
    {
     "data": {
      "text/html": [
       "<dl>\n",
       "\t<dt>$ridge_lambda</dt>\n",
       "\t\t<dd>0.0932603346883218</dd>\n",
       "\t<dt>$lasso_lambda</dt>\n",
       "\t\t<dd>0.01</dd>\n",
       "\t<dt>$ridge_test_error</dt>\n",
       "\t\t<dd>2.04597245942354</dd>\n",
       "\t<dt>$lasso_test_error</dt>\n",
       "\t\t<dd>2.3173005378637</dd>\n",
       "</dl>\n"
      ],
      "text/latex": [
       "\\begin{description}\n",
       "\\item[\\$ridge\\_lambda] 0.0932603346883218\n",
       "\\item[\\$lasso\\_lambda] 0.01\n",
       "\\item[\\$ridge\\_test\\_error] 2.04597245942354\n",
       "\\item[\\$lasso\\_test\\_error] 2.3173005378637\n",
       "\\end{description}\n"
      ],
      "text/markdown": [
       "$ridge_lambda\n",
       ":   0.0932603346883218\n",
       "$lasso_lambda\n",
       ":   0.01\n",
       "$ridge_test_error\n",
       ":   2.04597245942354\n",
       "$lasso_test_error\n",
       ":   2.3173005378637\n",
       "\n",
       "\n"
      ],
      "text/plain": [
       "$ridge_lambda\n",
       "[1] 0.09326033\n",
       "\n",
       "$lasso_lambda\n",
       "[1] 0.01\n",
       "\n",
       "$ridge_test_error\n",
       "[1] 2.045972\n",
       "\n",
       "$lasso_test_error\n",
       "[1] 2.317301\n"
      ]
     },
     "metadata": {},
     "output_type": "display_data"
    }
   ],
   "source": [
    "# Define coefficients for the model\n",
    "beta <- rep(0.5, p)\n",
    "beta\n",
    "# Generate the training response variable\n",
    "Y_train <- X_train %*% beta + eps_train\n",
    "# Generate the testing response variable\n",
    "Y_te <- X_te %*% beta + eps_te\n",
    "\n",
    "# Cross-validate Ridge Regression\n",
    "library(glmnet)\n",
    "cv_ridge <- cv.glmnet(X_train, Y_train, alpha = 0, lambda = grid)\n",
    "lambda_ridge_best <- cv_ridge$lambda.min\n",
    "ridge_model <- glmnet(X_train, Y_train, alpha = 0, lambda = lambda_ridge_best)\n",
    "ridge_pred <- predict(ridge_model, newx = X_te, s = lambda_ridge_best)\n",
    "ridge_test_error <- mean((Y_te - ridge_pred)^2)\n",
    "\n",
    "# Cross-validate Lasso Regression\n",
    "cv_lasso <- cv.glmnet(X_train, Y_train, alpha = 1, lambda = grid)\n",
    "lambda_lasso_best <- cv_lasso$lambda.min\n",
    "lasso_model <- glmnet(X_train, Y_train, alpha = 1, lambda = lambda_lasso_best)\n",
    "lasso_pred <- predict(lasso_model, newx = X_te, s = lambda_lasso_best)\n",
    "lasso_test_error <- mean((Y_te - lasso_pred)^2)\n",
    "\n",
    "# Output best lambdas and test errors for both methods\n",
    "list(ridge_lambda = lambda_ridge_best, \n",
    "     lasso_lambda = lambda_lasso_best, \n",
    "     ridge_test_error = ridge_test_error, \n",
    "     lasso_test_error = lasso_test_error)"
   ]
  },
  {
   "cell_type": "code",
   "execution_count": 8,
   "id": "520cb16b",
   "metadata": {},
   "outputs": [
    {
     "name": "stderr",
     "output_type": "stream",
     "text": [
      "No id variables; using all as measure variables\n",
      "\n"
     ]
    },
    {
     "data": {
      "image/png": "[encoded data removed]",
      "text/plain": [
       "plot without title"
      ]
     },
     "metadata": {
      "image/png": {
       "height": 420,
       "width": 420
      }
     },
     "output_type": "display_data"
    }
   ],
   "source": [
    "library(glmnet)\n",
    "library(ggplot2)\n",
    "\n",
    "# For-loop for part 1\n",
    "# Initialize lists to store test errors\n",
    "ridge_test_errors <- vector(\"list\", 50)\n",
    "lasso_test_errors <- vector(\"list\", 50)\n",
    "\n",
    "for (seed in 2:50) {\n",
    "  set.seed(seed)\n",
    "\n",
    "  # Generate training data\n",
    "  X_train = array(rnorm(p*N),c(N,p))\n",
    "  eps_train = rnorm(N)\n",
    "  X_te = array(rnorm(p*Nte),c(Nte,p))\n",
    "  eps_te = rnorm(Nte)\n",
    "  # Define coefficients for the model\n",
    "  beta <- rep(0, p)\n",
    "  beta[1:5] <- 2\n",
    "  # Generate the training response variable\n",
    "  Y_train <- X_train %*% beta + eps_train\n",
    "  # Generate the testing response variable\n",
    "  Y_te <- X_te %*% beta + eps_te\n",
    "    \n",
    "  # Fit Ridge Regression and find the best lambda using cross-validation\n",
    "  cv_ridge <- cv.glmnet(X_train, Y_train, alpha = 0, lambda = grid)\n",
    "  best_lambda_ridge <- cv_ridge$lambda.min\n",
    "  ridge_model <- glmnet(X_train, Y_train, alpha = 0, lambda = best_lambda_ridge)\n",
    "  ridge_pred <- predict(ridge_model, newx = X_te, s = best_lambda_ridge)\n",
    "  ridge_test_errors[[seed-1]] <- mean((Y_te - ridge_pred)^2)\n",
    "\n",
    "  # Fit Lasso Regression and find the best lambda using cross-validation\n",
    "  cv_lasso <- cv.glmnet(X_train, Y_train, alpha = 1, lambda = grid)\n",
    "  best_lambda_lasso <- cv_lasso$lambda.min\n",
    "  lasso_model <- glmnet(X_train, Y_train, alpha = 1, lambda = best_lambda_lasso)\n",
    "  lasso_pred <- predict(lasso_model, newx = X_te, s = best_lambda_lasso)\n",
    "  lasso_test_errors[[seed-1]] <- mean((Y_te - lasso_pred)^2)\n",
    "}\n",
    "\n",
    "# Combine errors into a data frame for plotting\n",
    "errors_df <- data.frame(\n",
    "  Ridge = unlist(ridge_test_errors),\n",
    "  Lasso = unlist(lasso_test_errors)\n",
    ")\n",
    "\n",
    "# Melt the data for ggplot2\n",
    "library(reshape2)\n",
    "errors_melted <- melt(errors_df)\n",
    "\n",
    "# Create boxplots of the test errors\n",
    "ggplot(errors_melted, aes(x = variable, y = value)) +\n",
    "  geom_boxplot() +\n",
    "  xlab(\"Method\") +\n",
    "  ylab(\"Test Error\") +\n",
    "  ggtitle(\"Comparison of Test Errors for Ridge and Lasso Regression\")\n"
   ]
  },
  {
   "cell_type": "code",
   "execution_count": 9,
   "id": "a713d5d7",
   "metadata": {},
   "outputs": [
    {
     "name": "stderr",
     "output_type": "stream",
     "text": [
      "No id variables; using all as measure variables\n",
      "\n"
     ]
    },
    {
     "data": {
      "image/png": "[encoded data removed]",
      "text/plain": [
       "plot without title"
      ]
     },
     "metadata": {
      "image/png": {
       "height": 420,
       "width": 420
      }
     },
     "output_type": "display_data"
    }
   ],
   "source": [
    "# For-loop for part 2\n",
    "# Initialize lists to store test errors\n",
    "ridge_test_errors <- vector(\"list\", 50)\n",
    "lasso_test_errors <- vector(\"list\", 50)\n",
    "\n",
    "for (seed in 2:50) {\n",
    "  set.seed(seed)\n",
    "\n",
    "  # Generate training data\n",
    "  X_train = array(rnorm(p*N),c(N,p))\n",
    "  eps_train = rnorm(N)\n",
    "  X_te = array(rnorm(p*Nte),c(Nte,p))\n",
    "  eps_te = rnorm(Nte)\n",
    "  # Define coefficients for the model\n",
    "  beta <- rep(0.5, p)\n",
    "  # Generate the training response variable\n",
    "  Y_train <- X_train %*% beta + eps_train\n",
    "  # Generate the testing response variable\n",
    "  Y_te <- X_te %*% beta + eps_te\n",
    "    \n",
    "  # Fit Ridge Regression and find the best lambda using cross-validation\n",
    "  cv_ridge <- cv.glmnet(X_train, Y_train, alpha = 0, lambda = grid)\n",
    "  best_lambda_ridge <- cv_ridge$lambda.min\n",
    "  ridge_model <- glmnet(X_train, Y_train, alpha = 0, lambda = best_lambda_ridge)\n",
    "  ridge_pred <- predict(ridge_model, newx = X_te, s = best_lambda_ridge)\n",
    "  ridge_test_errors[[seed-1]] <- mean((Y_te - ridge_pred)^2)\n",
    "\n",
    "  # Fit Lasso Regression and find the best lambda using cross-validation\n",
    "  cv_lasso <- cv.glmnet(X_train, Y_train, alpha = 1, lambda = grid)\n",
    "  best_lambda_lasso <- cv_lasso$lambda.min\n",
    "  lasso_model <- glmnet(X_train, Y_train, alpha = 1, lambda = best_lambda_lasso)\n",
    "  lasso_pred <- predict(lasso_model, newx = X_te, s = best_lambda_lasso)\n",
    "  lasso_test_errors[[seed-1]] <- mean((Y_te - lasso_pred)^2)\n",
    "}\n",
    "\n",
    "# Combine errors into a data frame for plotting\n",
    "errors_df <- data.frame(\n",
    "  Ridge = unlist(ridge_test_errors),\n",
    "  Lasso = unlist(lasso_test_errors)\n",
    ")\n",
    "\n",
    "# Melt the data for ggplot2\n",
    "library(reshape2)\n",
    "errors_melted <- melt(errors_df)\n",
    "\n",
    "# Create boxplots of the test errors\n",
    "ggplot(errors_melted, aes(x = variable, y = value)) +\n",
    "  geom_boxplot() +\n",
    "  xlab(\"Method\") +\n",
    "  ylab(\"Test Error\") +\n",
    "  ggtitle(\"Comparison of Test Errors for Ridge and Lasso Regression\")"
   ]
  },
  {
   "cell_type": "code",
   "execution_count": null,
   "id": "eef47d19",
   "metadata": {},
   "outputs": [],
   "source": []
  }
 ],
 "metadata": {
  "kernelspec": {
   "display_name": "R",
   "language": "R",
   "name": "ir"
  },
  "language_info": {
   "codemirror_mode": "r",
   "file_extension": ".r",
   "mimetype": "text/x-r-source",
   "name": "R",
   "pygments_lexer": "r",
   "version": "4.3.2"
  }
 },
 "nbformat": 4,
 "nbformat_minor": 5
}
